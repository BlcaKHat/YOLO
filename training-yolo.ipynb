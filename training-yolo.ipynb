{
  "nbformat": 4,
  "nbformat_minor": 0,
  "metadata": {
    "colab": {
      "name": "Untitled0.ipynb",
      "version": "0.3.2",
      "provenance": [],
      "toc_visible": true,
      "include_colab_link": true
    },
    "kernelspec": {
      "name": "python2",
      "display_name": "Python 2"
    },
    "accelerator": "GPU"
  },
  "cells": [
    {
      "cell_type": "markdown",
      "metadata": {
        "id": "view-in-github",
        "colab_type": "text"
      },
      "source": [
        "[View in Colaboratory](https://colab.research.google.com/github/BlcaKHat/YOLO/blob/master/training-yolo.ipynb)"
      ]
    },
    {
      "metadata": {
        "id": "crai6QA-Zyc-",
        "colab_type": "code",
        "colab": {}
      },
      "cell_type": "code",
      "source": [
        "pip install -U -q PyDrive\n"
        "import os\n",
        "from pydrive.auth import GoogleAuth\n",
        "from pydrive.drive import GoogleDrive\n",
        "from google.colab import auth\n",
        "from oauth2client.client import GoogleCredentials"
      ],
      "execution_count": 0,
      "outputs": []
    },
    {
      "metadata": {
        "id": "MyAPebPoZ6G3",
        "colab_type": "code",
        "colab": {}
      },
      "cell_type": "code",
      "source": [
        "auth.authenticate_user()\n",
        "gauth = GoogleAuth()\n",
        "gauth.credentials = GoogleCredentials.get_application_default()\n",
        "drive = GoogleDrive(gauth)"
      ],
      "execution_count": 0,
      "outputs": []
    },
    {
      "metadata": {
        "id": "wFGCSo8ZifWU",
        "colab_type": "code",
        "colab": {}
      },
      "cell_type": "code",
      "source": [
        "download = drive.CreateFile({'id': 'drive-id-created-by-google-drive(extract from sharable link'})\n",
        "download.GetContentFile('darknet.tar')"
      ],
      "execution_count": 0,
      "outputs": []
    },
    {
      "metadata": {
        "id": "SAZteEFUjp2d",
        "colab_type": "code",
        "colab": {
          "base_uri": "https://localhost:8080/",
          "height": 34
        },
        "outputId": "3042e254-365e-49a4-83ef-e8634bf9d045"
      },
      "cell_type": "code",
      "source": [
        "!cd darknet"
      ],
      "execution_count": 140,
      "outputs": [
        {
          "output_type": "stream",
          "text": [
            "/bin/bash: line 0: cd: darknet: No such file or directory\n"
          ],
          "name": "stdout"
        }
      ]
    },
    {
      "metadata": {
        "id": "K3mFFDAvli5G",
        "colab_type": "code",
        "colab": {
          "base_uri": "https://localhost:8080/",
          "height": 34
        },
        "outputId": "1ff58202-8501-466a-cacd-05d449fbe033"
      },
      "cell_type": "code",
      "source": [
        "!ls"
      ],
      "execution_count": 149,
      "outputs": [
        {
          "output_type": "stream",
          "text": [
            "adc.json  darknet  Drive  Makefile  My\tsample_data\n"
          ],
          "name": "stdout"
        }
      ]
    },
    {
      "metadata": {
        "id": "yiGUmsZhmyYG",
        "colab_type": "code",
        "colab": {
          "base_uri": "https://localhost:8080/",
          "height": 34
        },
        "outputId": "ae659bea-d25d-4afd-d8f1-2098cf70774d"
      },
      "cell_type": "code",
      "source": [
        "!mkdir -p darknet\n",
        "!echo \"file\" > darknet/123.txt\n",
        "!ls"
      ],
      "execution_count": 29,
      "outputs": [
        {
          "output_type": "stream",
          "text": [
            "adc.json  darknet  darknet.tar\tDrive  My  sample_data\n"
          ],
          "name": "stdout"
        }
      ]
    },
    {
      "metadata": {
        "id": "Zx7GPZOynSqI",
        "colab_type": "code",
        "colab": {
          "base_uri": "https://localhost:8080/",
          "height": 102
        },
        "outputId": "19a805c9-cf9d-40a8-d7c9-e9d4495b2f7e"
      },
      "cell_type": "code",
      "source": [
        "import os\n",
        "os.chdir('darknet')\n",
        "\n",
        "# Now the directory 'darknet' is the current working directory.\n",
        "!ls"
      ],
      "execution_count": 30,
      "outputs": [
        {
          "output_type": "stream",
          "text": [
            "123.txt   darknet\t   LICENSE\t    README.md\t video_yolov3.sh\n",
            "3rdparty  darknet.py\t   Makefile\t    results\n",
            "backup\t  data\t\t   mjpeg_stream.sh  scripts\n",
            "build\t  image_yolov2.sh  net_cam_v3.sh    src\n",
            "cfg\t  image_yolov3.sh  obj\t\t    video_v2.sh\n"
          ],
          "name": "stdout"
        }
      ]
    },
    {
      "metadata": {
        "id": "RyAE3gb2rDrg",
        "colab_type": "code",
        "colab": {}
      },
      "cell_type": "code",
      "source": [
        "!wget https://developer.nvidia.com/compute/cuda/9.2/Prod/local_installers/cuda-repo-ubuntu1604-9-2-local_9.2.88-1_amd64 -O cuda-repo-ubuntu1604-9-2-local_9.2.88-1_amd64.deb\n",
        "!dpkg -i cuda-repo-ubuntu1604-9-2-local_9.2.88-1_amd64.deb\n",
        "!apt-key add /var/cuda-repo-9-2-local/7fa2af80.pub\n",
        "!apt-get update\n",
        "!apt-get install cuda\n"
      ],
      "execution_count": 0,
      "outputs": []
    },
    {
      "metadata": {
        "id": "5sHt3Un7cKrO",
        "colab_type": "code",
        "colab": {
          "base_uri": "https://localhost:8080/",
          "height": 4440
        },
        "outputId": "3bbc46c4-608f-4e45-d03e-013983ca02d0"
      },
      "cell_type": "code",
      "source": [
        "!make\n"
      ],
      "execution_count": 154,
      "outputs": [
        {
          "output_type": "stream",
          "text": [
            "g++  -Wall -Wfatal-errors -Wno-unused-result -Wno-unknown-pragmas -Ofast -c ./src/http_stream.cpp -o obj/http_stream.o\n",
            "gcc  -Wall -Wfatal-errors -Wno-unused-result -Wno-unknown-pragmas -Ofast -c ./src/gemm.c -o obj/gemm.o\n",
            "\u001b[01m\u001b[K./src/gemm.c:\u001b[m\u001b[K In function ‘\u001b[01m\u001b[Ktranspose_8x8_bits_my\u001b[m\u001b[K’:\n",
            "\u001b[01m\u001b[K./src/gemm.c:311:20:\u001b[m\u001b[K \u001b[01;35m\u001b[Kwarning: \u001b[m\u001b[Kunused variable ‘\u001b[01m\u001b[Kt\u001b[m\u001b[K’ [\u001b[01;35m\u001b[K-Wunused-variable\u001b[m\u001b[K]\n",
            "     unsigned x, y, \u001b[01;35m\u001b[Kt\u001b[m\u001b[K;\n",
            "                    \u001b[01;35m\u001b[K^\u001b[m\u001b[K\n",
            "\u001b[01m\u001b[K./src/gemm.c:\u001b[m\u001b[K In function ‘\u001b[01m\u001b[Ktranspose_bin\u001b[m\u001b[K’:\n",
            "\u001b[01m\u001b[K./src/gemm.c:375:47:\u001b[m\u001b[K \u001b[01;35m\u001b[Kwarning: \u001b[m\u001b[Kpointer targets in passing argument 1 of ‘\u001b[01m\u001b[Ktranspose8rS32_reversed_diagonale\u001b[m\u001b[K’ differ in signedness [\u001b[01;35m\u001b[K-Wpointer-sign\u001b[m\u001b[K]\n",
            "             transpose8rS32_reversed_diagonale(\u001b[01;35m\u001b[K&\u001b[m\u001b[KA[a_index / 8], lda / 8, ldb / 8, &B[b_index / 8]);\n",
            "                                               \u001b[01;35m\u001b[K^\u001b[m\u001b[K\n",
            "\u001b[01m\u001b[K./src/gemm.c:342:6:\u001b[m\u001b[K \u001b[01;36m\u001b[Knote: \u001b[m\u001b[Kexpected ‘\u001b[01m\u001b[Kunsigned char *\u001b[m\u001b[K’ but argument is of type ‘\u001b[01m\u001b[Kchar *\u001b[m\u001b[K’\n",
            " void \u001b[01;36m\u001b[Ktranspose8rS32_reversed_diagonale\u001b[m\u001b[K(unsigned char* A, int m, int n, unsigned char* B)\n",
            "      \u001b[01;36m\u001b[K^~~~~~~~~~~~~~~~~~~~~~~~~~~~~~~~~\u001b[m\u001b[K\n",
            "\u001b[01m\u001b[K./src/gemm.c:375:82:\u001b[m\u001b[K \u001b[01;35m\u001b[Kwarning: \u001b[m\u001b[Kpointer targets in passing argument 4 of ‘\u001b[01m\u001b[Ktranspose8rS32_reversed_diagonale\u001b[m\u001b[K’ differ in signedness [\u001b[01;35m\u001b[K-Wpointer-sign\u001b[m\u001b[K]\n",
            "             transpose8rS32_reversed_diagonale(&A[a_index / 8], lda / 8, ldb / 8, \u001b[01;35m\u001b[K&\u001b[m\u001b[KB[b_index / 8]);\n",
            "                                                                                  \u001b[01;35m\u001b[K^\u001b[m\u001b[K\n",
            "\u001b[01m\u001b[K./src/gemm.c:342:6:\u001b[m\u001b[K \u001b[01;36m\u001b[Knote: \u001b[m\u001b[Kexpected ‘\u001b[01m\u001b[Kunsigned char *\u001b[m\u001b[K’ but argument is of type ‘\u001b[01m\u001b[Kchar *\u001b[m\u001b[K’\n",
            " void \u001b[01;36m\u001b[Ktranspose8rS32_reversed_diagonale\u001b[m\u001b[K(unsigned char* A, int m, int n, unsigned char* B)\n",
            "      \u001b[01;36m\u001b[K^~~~~~~~~~~~~~~~~~~~~~~~~~~~~~~~~\u001b[m\u001b[K\n",
            "\u001b[01m\u001b[K./src/gemm.c:378:25:\u001b[m\u001b[K \u001b[01;35m\u001b[Kwarning: \u001b[m\u001b[Kpointer targets in passing argument 1 of ‘\u001b[01m\u001b[Kget_bit\u001b[m\u001b[K’ differ in signedness [\u001b[01;35m\u001b[K-Wpointer-sign\u001b[m\u001b[K]\n",
            "             if (get_bit(\u001b[01;35m\u001b[KA\u001b[m\u001b[K, i*lda + j)) set_bit(B, j*ldb + i);\n",
            "                         \u001b[01;35m\u001b[K^\u001b[m\u001b[K\n",
            "In file included from \u001b[01m\u001b[K./src/gemm.c:1:0\u001b[m\u001b[K:\n",
            "\u001b[01m\u001b[K./src/gemm.h:17:29:\u001b[m\u001b[K \u001b[01;36m\u001b[Knote: \u001b[m\u001b[Kexpected ‘\u001b[01m\u001b[Kconst unsigned char * const\u001b[m\u001b[K’ but argument is of type ‘\u001b[01m\u001b[Kchar *\u001b[m\u001b[K’\n",
            " static inline unsigned char \u001b[01;36m\u001b[Kget_bit\u001b[m\u001b[K(unsigned char const*const src, size_t index) {\n",
            "                             \u001b[01;36m\u001b[K^~~~~~~\u001b[m\u001b[K\n",
            "\u001b[01m\u001b[K./src/gemm.c:378:48:\u001b[m\u001b[K \u001b[01;35m\u001b[Kwarning: \u001b[m\u001b[Kpointer targets in passing argument 1 of ‘\u001b[01m\u001b[Kset_bit\u001b[m\u001b[K’ differ in signedness [\u001b[01;35m\u001b[K-Wpointer-sign\u001b[m\u001b[K]\n",
            "             if (get_bit(A, i*lda + j)) set_bit(\u001b[01;35m\u001b[KB\u001b[m\u001b[K, j*ldb + i);\n",
            "                                                \u001b[01;35m\u001b[K^\u001b[m\u001b[K\n",
            "In file included from \u001b[01m\u001b[K./src/gemm.c:1:0\u001b[m\u001b[K:\n",
            "\u001b[01m\u001b[K./src/gemm.h:10:20:\u001b[m\u001b[K \u001b[01;36m\u001b[Knote: \u001b[m\u001b[Kexpected ‘\u001b[01m\u001b[Kunsigned char * const\u001b[m\u001b[K’ but argument is of type ‘\u001b[01m\u001b[Kchar *\u001b[m\u001b[K’\n",
            " static inline void \u001b[01;36m\u001b[Kset_bit\u001b[m\u001b[K(unsigned char *const dst, size_t index) {\n",
            "                    \u001b[01;36m\u001b[K^~~~~~~\u001b[m\u001b[K\n",
            "\u001b[01m\u001b[K./src/gemm.c:\u001b[m\u001b[K In function ‘\u001b[01m\u001b[Kconvolution_2d\u001b[m\u001b[K’:\n",
            "\u001b[01m\u001b[K./src/gemm.c:1568:15:\u001b[m\u001b[K \u001b[01;35m\u001b[Kwarning: \u001b[m\u001b[Kunused variable ‘\u001b[01m\u001b[Kj\u001b[m\u001b[K’ [\u001b[01;35m\u001b[K-Wunused-variable\u001b[m\u001b[K]\n",
            "     int i, f, \u001b[01;35m\u001b[Kj\u001b[m\u001b[K;\n",
            "               \u001b[01;35m\u001b[K^\u001b[m\u001b[K\n",
            "\u001b[01m\u001b[K./src/gemm.c:1568:12:\u001b[m\u001b[K \u001b[01;35m\u001b[Kwarning: \u001b[m\u001b[Kunused variable ‘\u001b[01m\u001b[Kf\u001b[m\u001b[K’ [\u001b[01;35m\u001b[K-Wunused-variable\u001b[m\u001b[K]\n",
            "     int i, \u001b[01;35m\u001b[Kf\u001b[m\u001b[K, j;\n",
            "            \u001b[01;35m\u001b[K^\u001b[m\u001b[K\n",
            "\u001b[01m\u001b[K./src/gemm.c:1568:9:\u001b[m\u001b[K \u001b[01;35m\u001b[Kwarning: \u001b[m\u001b[Kunused variable ‘\u001b[01m\u001b[Ki\u001b[m\u001b[K’ [\u001b[01;35m\u001b[K-Wunused-variable\u001b[m\u001b[K]\n",
            "     int \u001b[01;35m\u001b[Ki\u001b[m\u001b[K, f, j;\n",
            "         \u001b[01;35m\u001b[K^\u001b[m\u001b[K\n",
            "\u001b[01m\u001b[K./src/gemm.c:1567:9:\u001b[m\u001b[K \u001b[01;35m\u001b[Kwarning: \u001b[m\u001b[Kunused variable ‘\u001b[01m\u001b[Kout_w\u001b[m\u001b[K’ [\u001b[01;35m\u001b[K-Wunused-variable\u001b[m\u001b[K]\n",
            "     int \u001b[01;35m\u001b[Kout_w\u001b[m\u001b[K = (w + 2 * pad - ksize) / stride + 1;    // output_width=input_width for stride=1 and pad=1\n",
            "         \u001b[01;35m\u001b[K^~~~~\u001b[m\u001b[K\n",
            "\u001b[01m\u001b[K./src/gemm.c:1566:9:\u001b[m\u001b[K \u001b[01;35m\u001b[Kwarning: \u001b[m\u001b[Kunused variable ‘\u001b[01m\u001b[Kout_h\u001b[m\u001b[K’ [\u001b[01;35m\u001b[K-Wunused-variable\u001b[m\u001b[K]\n",
            "     int \u001b[01;35m\u001b[Kout_h\u001b[m\u001b[K = (h + 2 * pad - ksize) / stride + 1;    // output_height=input_height for stride=1 and pad=1\n",
            "         \u001b[01;35m\u001b[K^~~~~\u001b[m\u001b[K\n",
            "\u001b[01m\u001b[K./src/gemm.c:\u001b[m\u001b[K In function ‘\u001b[01m\u001b[Kgemm_nn_custom_bin_mean_transposed\u001b[m\u001b[K’:\n",
            "\u001b[01m\u001b[K./src/gemm.c:1616:18:\u001b[m\u001b[K \u001b[01;35m\u001b[Kwarning: \u001b[m\u001b[Kunused variable ‘\u001b[01m\u001b[Kh\u001b[m\u001b[K’ [\u001b[01;35m\u001b[K-Wunused-variable\u001b[m\u001b[K]\n",
            "     int i, j, k, \u001b[01;35m\u001b[Kh\u001b[m\u001b[K;\n",
            "                  \u001b[01;35m\u001b[K^\u001b[m\u001b[K\n",
            "\u001b[01m\u001b[K./src/gemm.c:\u001b[m\u001b[K In function ‘\u001b[01m\u001b[Kim2col_cpu_custom\u001b[m\u001b[K’:\n",
            "\u001b[01m\u001b[K./src/gemm.c:1700:43:\u001b[m\u001b[K \u001b[01;35m\u001b[Kwarning: \u001b[m\u001b[Kimplicit declaration of function ‘\u001b[01m\u001b[Kim2col_get_pixel\u001b[m\u001b[K’; did you mean ‘\u001b[01m\u001b[Kim2col_cpu\u001b[m\u001b[K’? [\u001b[01;35m\u001b[K-Wimplicit-function-declaration\u001b[m\u001b[K]\n",
            "                     data_col[col_index] = \u001b[01;35m\u001b[Kim2col_get_pixel\u001b[m\u001b[K(data_im, height, width, channels,\n",
            "                                           \u001b[01;35m\u001b[K^~~~~~~~~~~~~~~~\u001b[m\u001b[K\n",
            "                                           \u001b[32m\u001b[Kim2col_cpu\u001b[m\u001b[K\n",
            "\u001b[01m\u001b[K./src/gemm.c:\u001b[m\u001b[K In function ‘\u001b[01m\u001b[Kim2col_cpu_custom_bin\u001b[m\u001b[K’:\n",
            "\u001b[01m\u001b[K./src/gemm.c:1776:42:\u001b[m\u001b[K \u001b[01;35m\u001b[Kwarning: \u001b[m\u001b[Kpassing argument 1 of ‘\u001b[01m\u001b[Kset_bit\u001b[m\u001b[K’ from incompatible pointer type [\u001b[01;35m\u001b[K-Wincompatible-pointer-types\u001b[m\u001b[K]\n",
            "                     if (val > 0) set_bit(\u001b[01;35m\u001b[Kdata_col\u001b[m\u001b[K, col_index);\n",
            "                                          \u001b[01;35m\u001b[K^~~~~~~~\u001b[m\u001b[K\n",
            "In file included from \u001b[01m\u001b[K./src/gemm.c:1:0\u001b[m\u001b[K:\n",
            "\u001b[01m\u001b[K./src/gemm.h:10:20:\u001b[m\u001b[K \u001b[01;36m\u001b[Knote: \u001b[m\u001b[Kexpected ‘\u001b[01m\u001b[Kunsigned char * const\u001b[m\u001b[K’ but argument is of type ‘\u001b[01m\u001b[Kfloat *\u001b[m\u001b[K’\n",
            " static inline void \u001b[01;36m\u001b[Kset_bit\u001b[m\u001b[K(unsigned char *const dst, size_t index) {\n",
            "                    \u001b[01;36m\u001b[K^~~~~~~\u001b[m\u001b[K\n",
            "\u001b[01m\u001b[K./src/gemm.c:1787:42:\u001b[m\u001b[K \u001b[01;35m\u001b[Kwarning: \u001b[m\u001b[Kpassing argument 1 of ‘\u001b[01m\u001b[Kset_bit\u001b[m\u001b[K’ from incompatible pointer type [\u001b[01;35m\u001b[K-Wincompatible-pointer-types\u001b[m\u001b[K]\n",
            "                     if (val > 0) set_bit(\u001b[01;35m\u001b[Kdata_col\u001b[m\u001b[K, col_index);\n",
            "                                          \u001b[01;35m\u001b[K^~~~~~~~\u001b[m\u001b[K\n",
            "In file included from \u001b[01m\u001b[K./src/gemm.c:1:0\u001b[m\u001b[K:\n",
            "\u001b[01m\u001b[K./src/gemm.h:10:20:\u001b[m\u001b[K \u001b[01;36m\u001b[Knote: \u001b[m\u001b[Kexpected ‘\u001b[01m\u001b[Kunsigned char * const\u001b[m\u001b[K’ but argument is of type ‘\u001b[01m\u001b[Kfloat *\u001b[m\u001b[K’\n",
            " static inline void \u001b[01;36m\u001b[Kset_bit\u001b[m\u001b[K(unsigned char *const dst, size_t index) {\n",
            "                    \u001b[01;36m\u001b[K^~~~~~~\u001b[m\u001b[K\n",
            "\u001b[01m\u001b[K./src/gemm.c:1801:42:\u001b[m\u001b[K \u001b[01;35m\u001b[Kwarning: \u001b[m\u001b[Kpassing argument 1 of ‘\u001b[01m\u001b[Kset_bit\u001b[m\u001b[K’ from incompatible pointer type [\u001b[01;35m\u001b[K-Wincompatible-pointer-types\u001b[m\u001b[K]\n",
            "                     if (val > 0) set_bit(\u001b[01;35m\u001b[Kdata_col\u001b[m\u001b[K, col_index);\n",
            "                                          \u001b[01;35m\u001b[K^~~~~~~~\u001b[m\u001b[K\n",
            "In file included from \u001b[01m\u001b[K./src/gemm.c:1:0\u001b[m\u001b[K:\n",
            "\u001b[01m\u001b[K./src/gemm.h:10:20:\u001b[m\u001b[K \u001b[01;36m\u001b[Knote: \u001b[m\u001b[Kexpected ‘\u001b[01m\u001b[Kunsigned char * const\u001b[m\u001b[K’ but argument is of type ‘\u001b[01m\u001b[Kfloat *\u001b[m\u001b[K’\n",
            " static inline void \u001b[01;36m\u001b[Kset_bit\u001b[m\u001b[K(unsigned char *const dst, size_t index) {\n",
            "                    \u001b[01;36m\u001b[K^~~~~~~\u001b[m\u001b[K\n",
            "\u001b[01m\u001b[K./src/gemm.c:1815:42:\u001b[m\u001b[K \u001b[01;35m\u001b[Kwarning: \u001b[m\u001b[Kpassing argument 1 of ‘\u001b[01m\u001b[Kset_bit\u001b[m\u001b[K’ from incompatible pointer type [\u001b[01;35m\u001b[K-Wincompatible-pointer-types\u001b[m\u001b[K]\n",
            "                     if (val > 0) set_bit(\u001b[01;35m\u001b[Kdata_col\u001b[m\u001b[K, col_index);\n",
            "                                          \u001b[01;35m\u001b[K^~~~~~~~\u001b[m\u001b[K\n",
            "In file included from \u001b[01m\u001b[K./src/gemm.c:1:0\u001b[m\u001b[K:\n",
            "\u001b[01m\u001b[K./src/gemm.h:10:20:\u001b[m\u001b[K \u001b[01;36m\u001b[Knote: \u001b[m\u001b[Kexpected ‘\u001b[01m\u001b[Kunsigned char * const\u001b[m\u001b[K’ but argument is of type ‘\u001b[01m\u001b[Kfloat *\u001b[m\u001b[K’\n",
            " static inline void \u001b[01;36m\u001b[Kset_bit\u001b[m\u001b[K(unsigned char *const dst, size_t index) {\n",
            "                    \u001b[01;36m\u001b[K^~~~~~~\u001b[m\u001b[K\n",
            "\u001b[01m\u001b[K./src/gemm.c:1829:42:\u001b[m\u001b[K \u001b[01;35m\u001b[Kwarning: \u001b[m\u001b[Kpassing argument 1 of ‘\u001b[01m\u001b[Kset_bit\u001b[m\u001b[K’ from incompatible pointer type [\u001b[01;35m\u001b[K-Wincompatible-pointer-types\u001b[m\u001b[K]\n",
            "                     if (val > 0) set_bit(\u001b[01;35m\u001b[Kdata_col\u001b[m\u001b[K, col_index);\n",
            "                                          \u001b[01;35m\u001b[K^~~~~~~~\u001b[m\u001b[K\n",
            "In file included from \u001b[01m\u001b[K./src/gemm.c:1:0\u001b[m\u001b[K:\n",
            "\u001b[01m\u001b[K./src/gemm.h:10:20:\u001b[m\u001b[K \u001b[01;36m\u001b[Knote: \u001b[m\u001b[Kexpected ‘\u001b[01m\u001b[Kunsigned char * const\u001b[m\u001b[K’ but argument is of type ‘\u001b[01m\u001b[Kfloat *\u001b[m\u001b[K’\n",
            " static inline void \u001b[01;36m\u001b[Kset_bit\u001b[m\u001b[K(unsigned char *const dst, size_t index) {\n",
            "                    \u001b[01;36m\u001b[K^~~~~~~\u001b[m\u001b[K\n",
            "\u001b[01m\u001b[K./src/gemm.c:1843:42:\u001b[m\u001b[K \u001b[01;35m\u001b[Kwarning: \u001b[m\u001b[Kpassing argument 1 of ‘\u001b[01m\u001b[Kset_bit\u001b[m\u001b[K’ from incompatible pointer type [\u001b[01;35m\u001b[K-Wincompatible-pointer-types\u001b[m\u001b[K]\n",
            "                     if (val > 0) set_bit(\u001b[01;35m\u001b[Kdata_col\u001b[m\u001b[K, col_index);\n",
            "                                          \u001b[01;35m\u001b[K^~~~~~~~\u001b[m\u001b[K\n",
            "In file included from \u001b[01m\u001b[K./src/gemm.c:1:0\u001b[m\u001b[K:\n",
            "\u001b[01m\u001b[K./src/gemm.h:10:20:\u001b[m\u001b[K \u001b[01;36m\u001b[Knote: \u001b[m\u001b[Kexpected ‘\u001b[01m\u001b[Kunsigned char * const\u001b[m\u001b[K’ but argument is of type ‘\u001b[01m\u001b[Kfloat *\u001b[m\u001b[K’\n",
            " static inline void \u001b[01;36m\u001b[Kset_bit\u001b[m\u001b[K(unsigned char *const dst, size_t index) {\n",
            "                    \u001b[01;36m\u001b[K^~~~~~~\u001b[m\u001b[K\n",
            "gcc  -Wall -Wfatal-errors -Wno-unused-result -Wno-unknown-pragmas -Ofast -c ./src/utils.c -o obj/utils.o\n",
            "gcc  -Wall -Wfatal-errors -Wno-unused-result -Wno-unknown-pragmas -Ofast -c ./src/cuda.c -o obj/cuda.o\n",
            "gcc  -Wall -Wfatal-errors -Wno-unused-result -Wno-unknown-pragmas -Ofast -c ./src/convolutional_layer.c -o obj/convolutional_layer.o\n",
            "\u001b[01m\u001b[K./src/convolutional_layer.c:\u001b[m\u001b[K In function ‘\u001b[01m\u001b[Kresize_convolutional_layer\u001b[m\u001b[K’:\n",
            "\u001b[01m\u001b[K./src/convolutional_layer.c:456:9:\u001b[m\u001b[K \u001b[01;35m\u001b[Kwarning: \u001b[m\u001b[Kunused variable ‘\u001b[01m\u001b[Kold_h\u001b[m\u001b[K’ [\u001b[01;35m\u001b[K-Wunused-variable\u001b[m\u001b[K]\n",
            "     int \u001b[01;35m\u001b[Kold_h\u001b[m\u001b[K = l->h;\n",
            "         \u001b[01;35m\u001b[K^~~~~\u001b[m\u001b[K\n",
            "\u001b[01m\u001b[K./src/convolutional_layer.c:455:9:\u001b[m\u001b[K \u001b[01;35m\u001b[Kwarning: \u001b[m\u001b[Kunused variable ‘\u001b[01m\u001b[Kold_w\u001b[m\u001b[K’ [\u001b[01;35m\u001b[K-Wunused-variable\u001b[m\u001b[K]\n",
            "     int \u001b[01;35m\u001b[Kold_w\u001b[m\u001b[K = l->w;\n",
            "         \u001b[01;35m\u001b[K^~~~~\u001b[m\u001b[K\n",
            "\u001b[01m\u001b[K./src/convolutional_layer.c:\u001b[m\u001b[K In function ‘\u001b[01m\u001b[Kbit_to_float\u001b[m\u001b[K’:\n",
            "\u001b[01m\u001b[K./src/convolutional_layer.c:593:23:\u001b[m\u001b[K \u001b[01;35m\u001b[Kwarning: \u001b[m\u001b[Kunused variable ‘\u001b[01m\u001b[Ksrc_shift\u001b[m\u001b[K’ [\u001b[01;35m\u001b[K-Wunused-variable\u001b[m\u001b[K]\n",
            "     size_t i,  src_i, \u001b[01;35m\u001b[Ksrc_shift\u001b[m\u001b[K;\n",
            "                       \u001b[01;35m\u001b[K^~~~~~~~~\u001b[m\u001b[K\n",
            "\u001b[01m\u001b[K./src/convolutional_layer.c:593:16:\u001b[m\u001b[K \u001b[01;35m\u001b[Kwarning: \u001b[m\u001b[Kunused variable ‘\u001b[01m\u001b[Ksrc_i\u001b[m\u001b[K’ [\u001b[01;35m\u001b[K-Wunused-variable\u001b[m\u001b[K]\n",
            "     size_t i,  \u001b[01;35m\u001b[Ksrc_i\u001b[m\u001b[K, src_shift;\n",
            "                \u001b[01;35m\u001b[K^~~~~\u001b[m\u001b[K\n",
            "\u001b[01m\u001b[K./src/convolutional_layer.c:\u001b[m\u001b[K In function ‘\u001b[01m\u001b[Kbinary_align_weights\u001b[m\u001b[K’:\n",
            "\u001b[01m\u001b[K./src/convolutional_layer.c:623:33:\u001b[m\u001b[K \u001b[01;35m\u001b[Kwarning: \u001b[m\u001b[Kpointer targets in passing argument 2 of ‘\u001b[01m\u001b[Kfloat_to_bit\u001b[m\u001b[K’ differ in signedness [\u001b[01;35m\u001b[K-Wpointer-sign\u001b[m\u001b[K]\n",
            "     float_to_bit(align_weights, \u001b[01;35m\u001b[Kl\u001b[m\u001b[K->align_bit_weights, align_weights_size);\n",
            "                                 \u001b[01;35m\u001b[K^\u001b[m\u001b[K\n",
            "In file included from \u001b[01m\u001b[K./src/convolutional_layer.c:7:0\u001b[m\u001b[K:\n",
            "\u001b[01m\u001b[K./src/gemm.h:25:6:\u001b[m\u001b[K \u001b[01;36m\u001b[Knote: \u001b[m\u001b[Kexpected ‘\u001b[01m\u001b[Kunsigned char *\u001b[m\u001b[K’ but argument is of type ‘\u001b[01m\u001b[Kchar *\u001b[m\u001b[K’\n",
            " void \u001b[01;36m\u001b[Kfloat_to_bit\u001b[m\u001b[K(float *src, unsigned char *dst, size_t size);\n",
            "      \u001b[01;36m\u001b[K^~~~~~~~~~~~\u001b[m\u001b[K\n",
            "\u001b[01m\u001b[K./src/convolutional_layer.c:\u001b[m\u001b[K In function ‘\u001b[01m\u001b[Kbinary_transpose_align_input\u001b[m\u001b[K’:\n",
            "\u001b[01m\u001b[K./src/convolutional_layer.c:657:19:\u001b[m\u001b[K \u001b[01;35m\u001b[Kwarning: \u001b[m\u001b[Kpassing argument 1 of ‘\u001b[01m\u001b[Ktranspose_bin\u001b[m\u001b[K’ from incompatible pointer type [\u001b[01;35m\u001b[K-Wincompatible-pointer-types\u001b[m\u001b[K]\n",
            "     transpose_bin(\u001b[01;35m\u001b[Kb\u001b[m\u001b[K, *t_bit_input, k, n, bit_align, new_ldb, 8);\n",
            "                   \u001b[01;35m\u001b[K^\u001b[m\u001b[K\n",
            "In file included from \u001b[01m\u001b[K./src/convolutional_layer.c:7:0\u001b[m\u001b[K:\n",
            "\u001b[01m\u001b[K./src/gemm.h:30:6:\u001b[m\u001b[K \u001b[01;36m\u001b[Knote: \u001b[m\u001b[Kexpected ‘\u001b[01m\u001b[Kchar *\u001b[m\u001b[K’ but argument is of type ‘\u001b[01m\u001b[Kfloat *\u001b[m\u001b[K’\n",
            " void \u001b[01;36m\u001b[Ktranspose_bin\u001b[m\u001b[K(char *A, char *B, const int n, const int m,\n",
            "      \u001b[01;36m\u001b[K^~~~~~~~~~~~~\u001b[m\u001b[K\n",
            "\u001b[01m\u001b[K./src/convolutional_layer.c:647:9:\u001b[m\u001b[K \u001b[01;35m\u001b[Kwarning: \u001b[m\u001b[Kunused variable ‘\u001b[01m\u001b[Ksrc_size\u001b[m\u001b[K’ [\u001b[01;35m\u001b[K-Wunused-variable\u001b[m\u001b[K]\n",
            "     int \u001b[01;35m\u001b[Ksrc_size\u001b[m\u001b[K = k * bit_align;\n",
            "         \u001b[01;35m\u001b[K^~~~~~~~\u001b[m\u001b[K\n",
            "\u001b[01m\u001b[K./src/convolutional_layer.c:\u001b[m\u001b[K In function ‘\u001b[01m\u001b[Kforward_convolutional_layer\u001b[m\u001b[K’:\n",
            "\u001b[01m\u001b[K./src/convolutional_layer.c:816:68:\u001b[m\u001b[K \u001b[01;35m\u001b[Kwarning: \u001b[m\u001b[Kpointer targets in passing argument 5 of ‘\u001b[01m\u001b[Kgemm_nn_custom_bin_mean_transposed\u001b[m\u001b[K’ differ in signedness [\u001b[01;35m\u001b[K-Wpointer-sign\u001b[m\u001b[K]\n",
            "                     gemm_nn_custom_bin_mean_transposed(m, n, k, 1, \u001b[01;35m\u001b[Kl\u001b[m\u001b[K.align_bit_weights, new_ldb, t_bit_input, new_ldb, c, n, l.mean_arr);\n",
            "                                                                    \u001b[01;35m\u001b[K^\u001b[m\u001b[K\n",
            "In file included from \u001b[01m\u001b[K./src/convolutional_layer.c:7:0\u001b[m\u001b[K:\n",
            "\u001b[01m\u001b[K./src/gemm.h:33:6:\u001b[m\u001b[K \u001b[01;36m\u001b[Knote: \u001b[m\u001b[Kexpected ‘\u001b[01m\u001b[Kunsigned char *\u001b[m\u001b[K’ but argument is of type ‘\u001b[01m\u001b[Kchar *\u001b[m\u001b[K’\n",
            " void \u001b[01;36m\u001b[Kgemm_nn_custom_bin_mean_transposed\u001b[m\u001b[K(int M, int N, int K, float ALPHA_UNUSED,\n",
            "      \u001b[01;36m\u001b[K^~~~~~~~~~~~~~~~~~~~~~~~~~~~~~~~~~\u001b[m\u001b[K\n",
            "\u001b[01m\u001b[K./src/convolutional_layer.c:816:98:\u001b[m\u001b[K \u001b[01;35m\u001b[Kwarning: \u001b[m\u001b[Kpointer targets in passing argument 7 of ‘\u001b[01m\u001b[Kgemm_nn_custom_bin_mean_transposed\u001b[m\u001b[K’ differ in signedness [\u001b[01;35m\u001b[K-Wpointer-sign\u001b[m\u001b[K]\n",
            "                     gemm_nn_custom_bin_mean_transposed(m, n, k, 1, l.align_bit_weights, new_ldb, \u001b[01;35m\u001b[Kt_bit_input\u001b[m\u001b[K, new_ldb, c, n, l.mean_arr);\n",
            "                                                                                                  \u001b[01;35m\u001b[K^~~~~~~~~~~\u001b[m\u001b[K\n",
            "In file included from \u001b[01m\u001b[K./src/convolutional_layer.c:7:0\u001b[m\u001b[K:\n",
            "\u001b[01m\u001b[K./src/gemm.h:33:6:\u001b[m\u001b[K \u001b[01;36m\u001b[Knote: \u001b[m\u001b[Kexpected ‘\u001b[01m\u001b[Kunsigned char *\u001b[m\u001b[K’ but argument is of type ‘\u001b[01m\u001b[Kchar *\u001b[m\u001b[K’\n",
            " void \u001b[01;36m\u001b[Kgemm_nn_custom_bin_mean_transposed\u001b[m\u001b[K(int M, int N, int K, float ALPHA_UNUSED,\n",
            "      \u001b[01;36m\u001b[K^~~~~~~~~~~~~~~~~~~~~~~~~~~~~~~~~~\u001b[m\u001b[K\n",
            "\u001b[01m\u001b[K./src/convolutional_layer.c:810:28:\u001b[m\u001b[K \u001b[01;35m\u001b[Kwarning: \u001b[m\u001b[Kunused variable ‘\u001b[01m\u001b[Kt_intput_size\u001b[m\u001b[K’ [\u001b[01;35m\u001b[K-Wunused-variable\u001b[m\u001b[K]\n",
            "                     size_t \u001b[01;35m\u001b[Kt_intput_size\u001b[m\u001b[K = binary_transpose_align_input(k, n, b, &t_bit_input, ldb_align, l.bit_align);\n",
            "                            \u001b[01;35m\u001b[K^~~~~~~~~~~~~\u001b[m\u001b[K\n",
            "\u001b[01m\u001b[K./src/convolutional_layer.c:727:20:\u001b[m\u001b[K \u001b[01;35m\u001b[Kwarning: \u001b[m\u001b[Kunused variable ‘\u001b[01m\u001b[Kbit_weights_size\u001b[m\u001b[K’ [\u001b[01;35m\u001b[K-Wunused-variable\u001b[m\u001b[K]\n",
            "             size_t \u001b[01;35m\u001b[Kbit_weights_size\u001b[m\u001b[K = weights_size / 8 + 1;\n",
            "                    \u001b[01;35m\u001b[K^~~~~~~~~~~~~~~~\u001b[m\u001b[K\n",
            "\u001b[01m\u001b[K./src/convolutional_layer.c:723:20:\u001b[m\u001b[K \u001b[01;35m\u001b[Kwarning: \u001b[m\u001b[Kunused variable ‘\u001b[01m\u001b[Kbit_input_size\u001b[m\u001b[K’ [\u001b[01;35m\u001b[K-Wunused-variable\u001b[m\u001b[K]\n",
            "             size_t \u001b[01;35m\u001b[Kbit_input_size\u001b[m\u001b[K = intput_size / 8 + 1;\n",
            "                    \u001b[01;35m\u001b[K^~~~~~~~~~~~~~\u001b[m\u001b[K\n",
            "\u001b[01m\u001b[K./src/convolutional_layer.c:717:20:\u001b[m\u001b[K \u001b[01;35m\u001b[Kwarning: \u001b[m\u001b[Kunused variable ‘\u001b[01m\u001b[Koutput_size\u001b[m\u001b[K’ [\u001b[01;35m\u001b[K-Wunused-variable\u001b[m\u001b[K]\n",
            "             size_t \u001b[01;35m\u001b[Koutput_size\u001b[m\u001b[K = l.outputs;\n",
            "                    \u001b[01;35m\u001b[K^~~~~~~~~~~\u001b[m\u001b[K\n",
            "gcc  -Wall -Wfatal-errors -Wno-unused-result -Wno-unknown-pragmas -Ofast -c ./src/list.c -o obj/list.o\n",
            "gcc  -Wall -Wfatal-errors -Wno-unused-result -Wno-unknown-pragmas -Ofast -c ./src/image.c -o obj/image.o\n",
            "gcc  -Wall -Wfatal-errors -Wno-unused-result -Wno-unknown-pragmas -Ofast -c ./src/activations.c -o obj/activations.o\n",
            "gcc  -Wall -Wfatal-errors -Wno-unused-result -Wno-unknown-pragmas -Ofast -c ./src/im2col.c -o obj/im2col.o\n",
            "gcc  -Wall -Wfatal-errors -Wno-unused-result -Wno-unknown-pragmas -Ofast -c ./src/col2im.c -o obj/col2im.o\n",
            "gcc  -Wall -Wfatal-errors -Wno-unused-result -Wno-unknown-pragmas -Ofast -c ./src/blas.c -o obj/blas.o\n",
            "gcc  -Wall -Wfatal-errors -Wno-unused-result -Wno-unknown-pragmas -Ofast -c ./src/crop_layer.c -o obj/crop_layer.o\n",
            "gcc  -Wall -Wfatal-errors -Wno-unused-result -Wno-unknown-pragmas -Ofast -c ./src/dropout_layer.c -o obj/dropout_layer.o\n",
            "gcc  -Wall -Wfatal-errors -Wno-unused-result -Wno-unknown-pragmas -Ofast -c ./src/maxpool_layer.c -o obj/maxpool_layer.o\n",
            "gcc  -Wall -Wfatal-errors -Wno-unused-result -Wno-unknown-pragmas -Ofast -c ./src/softmax_layer.c -o obj/softmax_layer.o\n",
            "gcc  -Wall -Wfatal-errors -Wno-unused-result -Wno-unknown-pragmas -Ofast -c ./src/data.c -o obj/data.o\n",
            "gcc  -Wall -Wfatal-errors -Wno-unused-result -Wno-unknown-pragmas -Ofast -c ./src/matrix.c -o obj/matrix.o\n",
            "gcc  -Wall -Wfatal-errors -Wno-unused-result -Wno-unknown-pragmas -Ofast -c ./src/network.c -o obj/network.o\n",
            "gcc  -Wall -Wfatal-errors -Wno-unused-result -Wno-unknown-pragmas -Ofast -c ./src/connected_layer.c -o obj/connected_layer.o\n",
            "gcc  -Wall -Wfatal-errors -Wno-unused-result -Wno-unknown-pragmas -Ofast -c ./src/cost_layer.c -o obj/cost_layer.o\n",
            "gcc  -Wall -Wfatal-errors -Wno-unused-result -Wno-unknown-pragmas -Ofast -c ./src/parser.c -o obj/parser.o\n",
            "gcc  -Wall -Wfatal-errors -Wno-unused-result -Wno-unknown-pragmas -Ofast -c ./src/option_list.c -o obj/option_list.o\n",
            "\u001b[01m\u001b[K./src/option_list.c:\u001b[m\u001b[K In function ‘\u001b[01m\u001b[Kget_metadata\u001b[m\u001b[K’:\n",
            "\u001b[01m\u001b[K./src/option_list.c:46:19:\u001b[m\u001b[K \u001b[01;35m\u001b[Kwarning: \u001b[m\u001b[Kimplicit declaration of function ‘\u001b[01m\u001b[Kget_labels\u001b[m\u001b[K’; did you mean ‘\u001b[01m\u001b[Kgetline\u001b[m\u001b[K’? [\u001b[01;35m\u001b[K-Wimplicit-function-declaration\u001b[m\u001b[K]\n",
            "         m.names = \u001b[01;35m\u001b[Kget_labels\u001b[m\u001b[K(name_list);\n",
            "                   \u001b[01;35m\u001b[K^~~~~~~~~~\u001b[m\u001b[K\n",
            "                   \u001b[32m\u001b[Kgetline\u001b[m\u001b[K\n",
            "\u001b[01m\u001b[K./src/option_list.c:46:17:\u001b[m\u001b[K \u001b[01;35m\u001b[Kwarning: \u001b[m\u001b[Kassignment makes pointer from integer without a cast [\u001b[01;35m\u001b[K-Wint-conversion\u001b[m\u001b[K]\n",
            "         m.names \u001b[01;35m\u001b[K=\u001b[m\u001b[K get_labels(name_list);\n",
            "                 \u001b[01;35m\u001b[K^\u001b[m\u001b[K\n",
            "gcc  -Wall -Wfatal-errors -Wno-unused-result -Wno-unknown-pragmas -Ofast -c ./src/darknet.c -o obj/darknet.o\n",
            "gcc  -Wall -Wfatal-errors -Wno-unused-result -Wno-unknown-pragmas -Ofast -c ./src/detection_layer.c -o obj/detection_layer.o\n",
            "gcc  -Wall -Wfatal-errors -Wno-unused-result -Wno-unknown-pragmas -Ofast -c ./src/captcha.c -o obj/captcha.o\n",
            "gcc  -Wall -Wfatal-errors -Wno-unused-result -Wno-unknown-pragmas -Ofast -c ./src/route_layer.c -o obj/route_layer.o\n",
            "gcc  -Wall -Wfatal-errors -Wno-unused-result -Wno-unknown-pragmas -Ofast -c ./src/writing.c -o obj/writing.o\n",
            "gcc  -Wall -Wfatal-errors -Wno-unused-result -Wno-unknown-pragmas -Ofast -c ./src/box.c -o obj/box.o\n",
            "gcc  -Wall -Wfatal-errors -Wno-unused-result -Wno-unknown-pragmas -Ofast -c ./src/nightmare.c -o obj/nightmare.o\n",
            "gcc  -Wall -Wfatal-errors -Wno-unused-result -Wno-unknown-pragmas -Ofast -c ./src/normalization_layer.c -o obj/normalization_layer.o\n",
            "gcc  -Wall -Wfatal-errors -Wno-unused-result -Wno-unknown-pragmas -Ofast -c ./src/avgpool_layer.c -o obj/avgpool_layer.o\n",
            "gcc  -Wall -Wfatal-errors -Wno-unused-result -Wno-unknown-pragmas -Ofast -c ./src/coco.c -o obj/coco.o\n",
            "gcc  -Wall -Wfatal-errors -Wno-unused-result -Wno-unknown-pragmas -Ofast -c ./src/dice.c -o obj/dice.o\n",
            "gcc  -Wall -Wfatal-errors -Wno-unused-result -Wno-unknown-pragmas -Ofast -c ./src/yolo.c -o obj/yolo.o\n",
            "gcc  -Wall -Wfatal-errors -Wno-unused-result -Wno-unknown-pragmas -Ofast -c ./src/detector.c -o obj/detector.o\n",
            "\u001b[01m\u001b[K./src/detector.c:\u001b[m\u001b[K In function ‘\u001b[01m\u001b[Kvalidate_detector_recall\u001b[m\u001b[K’:\n",
            "\u001b[01m\u001b[K./src/detector.c:473:11:\u001b[m\u001b[K \u001b[01;35m\u001b[Kwarning: \u001b[m\u001b[Kunused variable ‘\u001b[01m\u001b[Kl\u001b[m\u001b[K’ [\u001b[01;35m\u001b[K-Wunused-variable\u001b[m\u001b[K]\n",
            "     layer \u001b[01;35m\u001b[Kl\u001b[m\u001b[K = net.layers[net.n - 1];\n",
            "           \u001b[01;35m\u001b[K^\u001b[m\u001b[K\n",
            "\u001b[01m\u001b[K./src/detector.c:\u001b[m\u001b[K In function ‘\u001b[01m\u001b[Kvalidate_detector_map\u001b[m\u001b[K’:\n",
            "\u001b[01m\u001b[K./src/detector.c:561:10:\u001b[m\u001b[K \u001b[01;35m\u001b[Kwarning: \u001b[m\u001b[Kvariable ‘\u001b[01m\u001b[Kmap\u001b[m\u001b[K’ set but not used [\u001b[01;35m\u001b[K-Wunused-but-set-variable\u001b[m\u001b[K]\n",
            "     int *\u001b[01;35m\u001b[Kmap\u001b[m\u001b[K = 0;\n",
            "          \u001b[01;35m\u001b[K^~~\u001b[m\u001b[K\n",
            "\u001b[01m\u001b[K./src/detector.c:554:9:\u001b[m\u001b[K \u001b[01;35m\u001b[Kwarning: \u001b[m\u001b[Kunused variable ‘\u001b[01m\u001b[Kj\u001b[m\u001b[K’ [\u001b[01;35m\u001b[K-Wunused-variable\u001b[m\u001b[K]\n",
            "     int \u001b[01;35m\u001b[Kj\u001b[m\u001b[K;\n",
            "         \u001b[01;35m\u001b[K^\u001b[m\u001b[K\n",
            "\u001b[01m\u001b[K./src/detector.c:\u001b[m\u001b[K In function ‘\u001b[01m\u001b[Ktest_detector\u001b[m\u001b[K’:\n",
            "\u001b[01m\u001b[K./src/detector.c:1190:15:\u001b[m\u001b[K \u001b[01;35m\u001b[Kwarning: \u001b[m\u001b[Kpassing argument 1 of ‘\u001b[01m\u001b[Kfree_ptrs\u001b[m\u001b[K’ from incompatible pointer type [\u001b[01;35m\u001b[K-Wincompatible-pointer-types\u001b[m\u001b[K]\n",
            "     free_ptrs(\u001b[01;35m\u001b[Knames\u001b[m\u001b[K, net.layers[net.n - 1].classes);\n",
            "               \u001b[01;35m\u001b[K^~~~~\u001b[m\u001b[K\n",
            "In file included from \u001b[01m\u001b[K./src/detector.c:4:0\u001b[m\u001b[K:\n",
            "\u001b[01m\u001b[K./src/utils.h:32:18:\u001b[m\u001b[K \u001b[01;36m\u001b[Knote: \u001b[m\u001b[Kexpected ‘\u001b[01m\u001b[Kvoid **\u001b[m\u001b[K’ but argument is of type ‘\u001b[01m\u001b[Kchar **\u001b[m\u001b[K’\n",
            " YOLODLL_API void \u001b[01;36m\u001b[Kfree_ptrs\u001b[m\u001b[K(void **ptrs, int n);\n",
            "                  \u001b[01;36m\u001b[K^~~~~~~~~\u001b[m\u001b[K\n",
            "gcc  -Wall -Wfatal-errors -Wno-unused-result -Wno-unknown-pragmas -Ofast -c ./src/layer.c -o obj/layer.o\n",
            "gcc  -Wall -Wfatal-errors -Wno-unused-result -Wno-unknown-pragmas -Ofast -c ./src/compare.c -o obj/compare.o\n",
            "gcc  -Wall -Wfatal-errors -Wno-unused-result -Wno-unknown-pragmas -Ofast -c ./src/classifier.c -o obj/classifier.o\n",
            "\u001b[01m\u001b[K./src/classifier.c:\u001b[m\u001b[K In function ‘\u001b[01m\u001b[Kpredict_classifier\u001b[m\u001b[K’:\n",
            "\u001b[01m\u001b[K./src/classifier.c:738:9:\u001b[m\u001b[K \u001b[01;35m\u001b[Kwarning: \u001b[m\u001b[Kunused variable ‘\u001b[01m\u001b[Ksize\u001b[m\u001b[K’ [\u001b[01;35m\u001b[K-Wunused-variable\u001b[m\u001b[K]\n",
            "     int \u001b[01;35m\u001b[Ksize\u001b[m\u001b[K = net.w;\n",
            "         \u001b[01;35m\u001b[K^~~~\u001b[m\u001b[K\n",
            "gcc  -Wall -Wfatal-errors -Wno-unused-result -Wno-unknown-pragmas -Ofast -c ./src/local_layer.c -o obj/local_layer.o\n",
            "gcc  -Wall -Wfatal-errors -Wno-unused-result -Wno-unknown-pragmas -Ofast -c ./src/swag.c -o obj/swag.o\n",
            "gcc  -Wall -Wfatal-errors -Wno-unused-result -Wno-unknown-pragmas -Ofast -c ./src/shortcut_layer.c -o obj/shortcut_layer.o\n",
            "gcc  -Wall -Wfatal-errors -Wno-unused-result -Wno-unknown-pragmas -Ofast -c ./src/activation_layer.c -o obj/activation_layer.o\n",
            "gcc  -Wall -Wfatal-errors -Wno-unused-result -Wno-unknown-pragmas -Ofast -c ./src/rnn_layer.c -o obj/rnn_layer.o\n",
            "gcc  -Wall -Wfatal-errors -Wno-unused-result -Wno-unknown-pragmas -Ofast -c ./src/gru_layer.c -o obj/gru_layer.o\n",
            "gcc  -Wall -Wfatal-errors -Wno-unused-result -Wno-unknown-pragmas -Ofast -c ./src/rnn.c -o obj/rnn.o\n",
            "gcc  -Wall -Wfatal-errors -Wno-unused-result -Wno-unknown-pragmas -Ofast -c ./src/rnn_vid.c -o obj/rnn_vid.o\n",
            "gcc  -Wall -Wfatal-errors -Wno-unused-result -Wno-unknown-pragmas -Ofast -c ./src/crnn_layer.c -o obj/crnn_layer.o\n",
            "gcc  -Wall -Wfatal-errors -Wno-unused-result -Wno-unknown-pragmas -Ofast -c ./src/demo.c -o obj/demo.o\n",
            "gcc  -Wall -Wfatal-errors -Wno-unused-result -Wno-unknown-pragmas -Ofast -c ./src/tag.c -o obj/tag.o\n",
            "gcc  -Wall -Wfatal-errors -Wno-unused-result -Wno-unknown-pragmas -Ofast -c ./src/cifar.c -o obj/cifar.o\n",
            "gcc  -Wall -Wfatal-errors -Wno-unused-result -Wno-unknown-pragmas -Ofast -c ./src/go.c -o obj/go.o\n",
            "gcc  -Wall -Wfatal-errors -Wno-unused-result -Wno-unknown-pragmas -Ofast -c ./src/batchnorm_layer.c -o obj/batchnorm_layer.o\n",
            "gcc  -Wall -Wfatal-errors -Wno-unused-result -Wno-unknown-pragmas -Ofast -c ./src/art.c -o obj/art.o\n",
            "gcc  -Wall -Wfatal-errors -Wno-unused-result -Wno-unknown-pragmas -Ofast -c ./src/region_layer.c -o obj/region_layer.o\n",
            "\u001b[01m\u001b[K./src/region_layer.c:\u001b[m\u001b[K In function ‘\u001b[01m\u001b[Kresize_region_layer\u001b[m\u001b[K’:\n",
            "\u001b[01m\u001b[K./src/region_layer.c:57:9:\u001b[m\u001b[K \u001b[01;35m\u001b[Kwarning: \u001b[m\u001b[Kunused variable ‘\u001b[01m\u001b[Kold_h\u001b[m\u001b[K’ [\u001b[01;35m\u001b[K-Wunused-variable\u001b[m\u001b[K]\n",
            "     int \u001b[01;35m\u001b[Kold_h\u001b[m\u001b[K = l->h;\n",
            "         \u001b[01;35m\u001b[K^~~~~\u001b[m\u001b[K\n",
            "\u001b[01m\u001b[K./src/region_layer.c:56:9:\u001b[m\u001b[K \u001b[01;35m\u001b[Kwarning: \u001b[m\u001b[Kunused variable ‘\u001b[01m\u001b[Kold_w\u001b[m\u001b[K’ [\u001b[01;35m\u001b[K-Wunused-variable\u001b[m\u001b[K]\n",
            "     int \u001b[01;35m\u001b[Kold_w\u001b[m\u001b[K = l->w;\n",
            "         \u001b[01;35m\u001b[K^~~~~\u001b[m\u001b[K\n",
            "gcc  -Wall -Wfatal-errors -Wno-unused-result -Wno-unknown-pragmas -Ofast -c ./src/reorg_layer.c -o obj/reorg_layer.o\n",
            "gcc  -Wall -Wfatal-errors -Wno-unused-result -Wno-unknown-pragmas -Ofast -c ./src/reorg_old_layer.c -o obj/reorg_old_layer.o\n",
            "gcc  -Wall -Wfatal-errors -Wno-unused-result -Wno-unknown-pragmas -Ofast -c ./src/super.c -o obj/super.o\n",
            "gcc  -Wall -Wfatal-errors -Wno-unused-result -Wno-unknown-pragmas -Ofast -c ./src/voxel.c -o obj/voxel.o\n",
            "gcc  -Wall -Wfatal-errors -Wno-unused-result -Wno-unknown-pragmas -Ofast -c ./src/tree.c -o obj/tree.o\n",
            "gcc  -Wall -Wfatal-errors -Wno-unused-result -Wno-unknown-pragmas -Ofast -c ./src/yolo_layer.c -o obj/yolo_layer.o\n",
            "gcc  -Wall -Wfatal-errors -Wno-unused-result -Wno-unknown-pragmas -Ofast -c ./src/upsample_layer.c -o obj/upsample_layer.o\n",
            "g++  -Wall -Wfatal-errors -Wno-unused-result -Wno-unknown-pragmas -Ofast obj/http_stream.o obj/gemm.o obj/utils.o obj/cuda.o obj/convolutional_layer.o obj/list.o obj/image.o obj/activations.o obj/im2col.o obj/col2im.o obj/blas.o obj/crop_layer.o obj/dropout_layer.o obj/maxpool_layer.o obj/softmax_layer.o obj/data.o obj/matrix.o obj/network.o obj/connected_layer.o obj/cost_layer.o obj/parser.o obj/option_list.o obj/darknet.o obj/detection_layer.o obj/captcha.o obj/route_layer.o obj/writing.o obj/box.o obj/nightmare.o obj/normalization_layer.o obj/avgpool_layer.o obj/coco.o obj/dice.o obj/yolo.o obj/detector.o obj/layer.o obj/compare.o obj/classifier.o obj/local_layer.o obj/swag.o obj/shortcut_layer.o obj/activation_layer.o obj/rnn_layer.o obj/gru_layer.o obj/rnn.o obj/rnn_vid.o obj/crnn_layer.o obj/demo.o obj/tag.o obj/cifar.o obj/go.o obj/batchnorm_layer.o obj/art.o obj/region_layer.o obj/reorg_layer.o obj/reorg_old_layer.o obj/super.o obj/voxel.o obj/tree.o obj/yolo_layer.o obj/upsample_layer.o -o darknet -lm -pthread \n"
          ],
          "name": "stdout"
        }
      ]
    },
    {
      "metadata": {
        "id": "ffHtQXMDuxd1",
        "colab_type": "code",
        "colab": {
          "base_uri": "https://localhost:8080/",
          "height": 275
        },
        "outputId": "d58d5820-9d8b-431b-f8e1-0b93bb097f03"
      },
      "cell_type": "code",
      "source": [
        "!pip install mxnet-cu92"
      ],
      "execution_count": 39,
      "outputs": [
        {
          "output_type": "stream",
          "text": [
            "Collecting mxnet-cu92\n",
            "\u001b[?25l  Downloading https://files.pythonhosted.org/packages/ff/d1/0567cad003fb7320df9ee6812b019e0b5b1b58a0c015c20e6a69c23cdf49/mxnet_cu92-1.2.1.post1-py2.py3-none-manylinux1_x86_64.whl (393.7MB)\n",
            "\u001b[K    100% |████████████████████████████████| 393.7MB 38kB/s \n",
            "tcmalloc: large alloc 1073750016 bytes == 0x55fe33cc8000 @  0x7f997e00b1c4 0x55fdda4a10d8 0x55fdda58ad5d 0x55fdda4b477a 0x55fdda4b9462 0x55fdda4b1b3a 0x55fdda4b982e 0x55fdda4b1b3a 0x55fdda4b982e 0x55fdda4b1b3a 0x55fdda4b982e 0x55fdda4b1b3a 0x55fdda4b9e1f 0x55fdda4b1b3a 0x55fdda4b982e 0x55fdda4b1b3a 0x55fdda4b982e 0x55fdda4b9462 0x55fdda4b9462 0x55fdda4b1b3a 0x55fdda4b9e1f 0x55fdda4b9462 0x55fdda4b1b3a 0x55fdda4b9e1f 0x55fdda4b1b3a 0x55fdda4b9e1f 0x55fdda4b1b3a 0x55fdda4b982e 0x55fdda4b1b3a 0x55fdda4e250f 0x55fdda4dd202\n",
            "\u001b[?25hCollecting graphviz<0.9.0,>=0.8.1 (from mxnet-cu92)\n",
            "  Downloading https://files.pythonhosted.org/packages/53/39/4ab213673844e0c004bed8a0781a0721a3f6bb23eb8854ee75c236428892/graphviz-0.8.4-py2.py3-none-any.whl\n",
            "Requirement already satisfied: numpy<1.15.0,>=1.8.2 in /usr/local/lib/python2.7/dist-packages (from mxnet-cu92) (1.14.5)\n",
            "Requirement already satisfied: requests<2.19.0,>=2.18.4 in /usr/local/lib/python2.7/dist-packages (from mxnet-cu92) (2.18.4)\n",
            "Requirement already satisfied: idna<2.7,>=2.5 in /usr/local/lib/python2.7/dist-packages (from requests<2.19.0,>=2.18.4->mxnet-cu92) (2.6)\n",
            "Requirement already satisfied: urllib3<1.23,>=1.21.1 in /usr/local/lib/python2.7/dist-packages (from requests<2.19.0,>=2.18.4->mxnet-cu92) (1.22)\n",
            "Requirement already satisfied: certifi>=2017.4.17 in /usr/local/lib/python2.7/dist-packages (from requests<2.19.0,>=2.18.4->mxnet-cu92) (2018.8.24)\n",
            "Requirement already satisfied: chardet<3.1.0,>=3.0.2 in /usr/local/lib/python2.7/dist-packages (from requests<2.19.0,>=2.18.4->mxnet-cu92) (3.0.4)\n",
            "Installing collected packages: graphviz, mxnet-cu92\n",
            "Successfully installed graphviz-0.8.4 mxnet-cu92-1.2.1.post1\n"
          ],
          "name": "stdout"
        }
      ]
    },
    {
      "metadata": {
        "id": "a7VIk_J9i-8F",
        "colab_type": "code",
        "colab": {
          "base_uri": "https://localhost:8080/",
          "height": 2190
        },
        "outputId": "c62cd500-029f-4694-f4e6-7f6ab87ac615"
      },
      "cell_type": "code",
      "source": [
        "!./darknet detector train data/obj.data cfg/yolo-obj.cfg darknet53.conv.74"
      ],
      "execution_count": 0,
      "outputs": [
        {
          "output_type": "stream",
          "text": [
            "yolo-obj\n",
            "layer     filters    size              input                output\n",
            "   0 conv     32  3 x 3 / 1   416 x 416 x   3   ->   416 x 416 x  32 0.299 BF\n",
            "   1 conv     64  3 x 3 / 2   416 x 416 x  32   ->   208 x 208 x  64 1.595 BF\n",
            "   2 conv     32  1 x 1 / 1   208 x 208 x  64   ->   208 x 208 x  32 0.177 BF\n",
            "   3 conv     64  3 x 3 / 1   208 x 208 x  32   ->   208 x 208 x  64 1.595 BF\n",
            "   4 Shortcut Layer: 1\n",
            "   5 conv    128  3 x 3 / 2   208 x 208 x  64   ->   104 x 104 x 128 1.595 BF\n",
            "   6 conv     64  1 x 1 / 1   104 x 104 x 128   ->   104 x 104 x  64 0.177 BF\n",
            "   7 conv    128  3 x 3 / 1   104 x 104 x  64   ->   104 x 104 x 128 1.595 BF\n",
            "   8 Shortcut Layer: 5\n",
            "   9 conv     64  1 x 1 / 1   104 x 104 x 128   ->   104 x 104 x  64 0.177 BF\n",
            "  10 conv    128  3 x 3 / 1   104 x 104 x  64   ->   104 x 104 x 128 1.595 BF\n",
            "  11 Shortcut Layer: 8\n",
            "  12 conv    256  3 x 3 / 2   104 x 104 x 128   ->    52 x  52 x 256 1.595 BF\n",
            "  13 conv    128  1 x 1 / 1    52 x  52 x 256   ->    52 x  52 x 128 0.177 BF\n",
            "  14 conv    256  3 x 3 / 1    52 x  52 x 128   ->    52 x  52 x 256 1.595 BF\n",
            "  15 Shortcut Layer: 12\n",
            "  16 conv    128  1 x 1 / 1    52 x  52 x 256   ->    52 x  52 x 128 0.177 BF\n",
            "  17 conv    256  3 x 3 / 1    52 x  52 x 128   ->    52 x  52 x 256 1.595 BF\n",
            "  18 Shortcut Layer: 15\n",
            "  19 conv    128  1 x 1 / 1    52 x  52 x 256   ->    52 x  52 x 128 0.177 BF\n",
            "  20 conv    256  3 x 3 / 1    52 x  52 x 128   ->    52 x  52 x 256 1.595 BF\n",
            "  21 Shortcut Layer: 18\n",
            "  22 conv    128  1 x 1 / 1    52 x  52 x 256   ->    52 x  52 x 128 0.177 BF\n",
            "  23 conv    256  3 x 3 / 1    52 x  52 x 128   ->    52 x  52 x 256 1.595 BF\n",
            "  24 Shortcut Layer: 21\n",
            "  25 conv    128  1 x 1 / 1    52 x  52 x 256   ->    52 x  52 x 128 0.177 BF\n",
            "  26 conv    256  3 x 3 / 1    52 x  52 x 128   ->    52 x  52 x 256 1.595 BF\n",
            "  27 Shortcut Layer: 24\n",
            "  28 conv    128  1 x 1 / 1    52 x  52 x 256   ->    52 x  52 x 128 0.177 BF\n",
            "  29 conv    256  3 x 3 / 1    52 x  52 x 128   ->    52 x  52 x 256 1.595 BF\n",
            "  30 Shortcut Layer: 27\n",
            "  31 conv    128  1 x 1 / 1    52 x  52 x 256   ->    52 x  52 x 128 0.177 BF\n",
            "  32 conv    256  3 x 3 / 1    52 x  52 x 128   ->    52 x  52 x 256 1.595 BF\n",
            "  33 Shortcut Layer: 30\n",
            "  34 conv    128  1 x 1 / 1    52 x  52 x 256   ->    52 x  52 x 128 0.177 BF\n",
            "  35 conv    256  3 x 3 / 1    52 x  52 x 128   ->    52 x  52 x 256 1.595 BF\n",
            "  36 Shortcut Layer: 33\n",
            "  37 conv    512  3 x 3 / 2    52 x  52 x 256   ->    26 x  26 x 512 1.595 BF\n",
            "  38 conv    256  1 x 1 / 1    26 x  26 x 512   ->    26 x  26 x 256 0.177 BF\n",
            "  39 conv    512  3 x 3 / 1    26 x  26 x 256   ->    26 x  26 x 512 1.595 BF\n",
            "  40 Shortcut Layer: 37\n",
            "  41 conv    256  1 x 1 / 1    26 x  26 x 512   ->    26 x  26 x 256 0.177 BF\n",
            "  42 conv    512  3 x 3 / 1    26 x  26 x 256   ->    26 x  26 x 512 1.595 BF\n",
            "  43 Shortcut Layer: 40\n",
            "  44 conv    256  1 x 1 / 1    26 x  26 x 512   ->    26 x  26 x 256 0.177 BF\n",
            "  45 conv    512  3 x 3 / 1    26 x  26 x 256   ->    26 x  26 x 512 1.595 BF\n",
            "  46 Shortcut Layer: 43\n",
            "  47 conv    256  1 x 1 / 1    26 x  26 x 512   ->    26 x  26 x 256 0.177 BF\n",
            "  48 conv    512  3 x 3 / 1    26 x  26 x 256   ->    26 x  26 x 512 1.595 BF\n",
            "  49 Shortcut Layer: 46\n",
            "  50 conv    256  1 x 1 / 1    26 x  26 x 512   ->    26 x  26 x 256 0.177 BF\n",
            "  51 conv    512  3 x 3 / 1    26 x  26 x 256   ->    26 x  26 x 512 1.595 BF\n",
            "  52 Shortcut Layer: 49\n",
            "  53 conv    256  1 x 1 / 1    26 x  26 x 512   ->    26 x  26 x 256 0.177 BF\n",
            "  54 conv    512  3 x 3 / 1    26 x  26 x 256   ->    26 x  26 x 512 1.595 BF\n",
            "  55 Shortcut Layer: 52\n",
            "  56 conv    256  1 x 1 / 1    26 x  26 x 512   ->    26 x  26 x 256 0.177 BF\n",
            "  57 conv    512  3 x 3 / 1    26 x  26 x 256   ->    26 x  26 x 512 1.595 BF\n",
            "  58 Shortcut Layer: 55\n",
            "  59 conv    256  1 x 1 / 1    26 x  26 x 512   ->    26 x  26 x 256 0.177 BF\n",
            "  60 conv    512  3 x 3 / 1    26 x  26 x 256   ->    26 x  26 x 512 1.595 BF\n",
            "  61 Shortcut Layer: 58\n",
            "  62 conv   1024  3 x 3 / 2    26 x  26 x 512   ->    13 x  13 x1024 1.595 BF\n",
            "  63 conv    512  1 x 1 / 1    13 x  13 x1024   ->    13 x  13 x 512 0.177 BF\n",
            "  64 conv   1024  3 x 3 / 1    13 x  13 x 512   ->    13 x  13 x1024 1.595 BF\n",
            "  65 Shortcut Layer: 62\n",
            "  66 conv    512  1 x 1 / 1    13 x  13 x1024   ->    13 x  13 x 512 0.177 BF\n",
            "  67 conv   1024  3 x 3 / 1    13 x  13 x 512   ->    13 x  13 x1024 1.595 BF\n",
            "  68 Shortcut Layer: 65\n",
            "  69 conv    512  1 x 1 / 1    13 x  13 x1024   ->    13 x  13 x 512 0.177 BF\n",
            "  70 conv   1024  3 x 3 / 1    13 x  13 x 512   ->    13 x  13 x1024 1.595 BF\n",
            "  71 Shortcut Layer: 68\n",
            "  72 conv    512  1 x 1 / 1    13 x  13 x1024   ->    13 x  13 x 512 0.177 BF\n",
            "  73 conv   1024  3 x 3 / 1    13 x  13 x 512   ->    13 x  13 x1024 1.595 BF\n",
            "  74 Shortcut Layer: 71\n",
            "  75 conv    512  1 x 1 / 1    13 x  13 x1024   ->    13 x  13 x 512 0.177 BF\n",
            "  76 conv   1024  3 x 3 / 1    13 x  13 x 512   ->    13 x  13 x1024 1.595 BF\n",
            "  77 conv    512  1 x 1 / 1    13 x  13 x1024   ->    13 x  13 x 512 0.177 BF\n",
            "  78 conv   1024  3 x 3 / 1    13 x  13 x 512   ->    13 x  13 x1024 1.595 BF\n",
            "  79 conv    512  1 x 1 / 1    13 x  13 x1024   ->    13 x  13 x 512 0.177 BF\n",
            "  80 conv   1024  3 x 3 / 1    13 x  13 x 512   ->    13 x  13 x1024 1.595 BF\n",
            "  81 conv     21  1 x 1 / 1    13 x  13 x1024   ->    13 x  13 x  21 0.007 BF\n",
            "  82 yolo\n",
            "  83 route  79\n",
            "  84 conv    256  1 x 1 / 1    13 x  13 x 512   ->    13 x  13 x 256 0.044 BF\n",
            "  85 upsample            2x    13 x  13 x 256   ->    26 x  26 x 256\n",
            "  86 route  85 61\n",
            "  87 conv    256  1 x 1 / 1    26 x  26 x 768   ->    26 x  26 x 256 0.266 BF\n",
            "  88 conv    512  3 x 3 / 1    26 x  26 x 256   ->    26 x  26 x 512 1.595 BF\n",
            "  89 conv    256  1 x 1 / 1    26 x  26 x 512   ->    26 x  26 x 256 0.177 BF\n",
            "  90 conv    512  3 x 3 / 1    26 x  26 x 256   ->    26 x  26 x 512 1.595 BF\n",
            "  91 conv    256  1 x 1 / 1    26 x  26 x 512   ->    26 x  26 x 256 0.177 BF\n",
            "  92 conv    512  3 x 3 / 1    26 x  26 x 256   ->    26 x  26 x 512 1.595 BF\n",
            "  93 conv     21  1 x 1 / 1    26 x  26 x 512   ->    26 x  26 x  21 0.015 BF\n",
            "  94 yolo\n",
            "  95 route  91\n",
            "  96 conv    128  1 x 1 / 1    26 x  26 x 256   ->    26 x  26 x 128 0.044 BF\n",
            "  97 upsample            2x    26 x  26 x 128   ->    52 x  52 x 128\n",
            "  98 route  97 36\n",
            "  99 conv    128  1 x 1 / 1    52 x  52 x 384   ->    52 x  52 x 128 0.266 BF\n",
            " 100 conv    256  3 x 3 / 1    52 x  52 x 128   ->    52 x  52 x 256 1.595 BF\n",
            " 101 conv    128  1 x 1 / 1    52 x  52 x 256   ->    52 x  52 x 128 0.177 BF\n",
            " 102 conv    256  3 x 3 / 1    52 x  52 x 128   ->    52 x  52 x 256 1.595 BF\n",
            " 103 conv    128  1 x 1 / 1    52 x  52 x 256   ->    52 x  52 x 128 0.177 BF\n",
            " 104 conv    256  3 x 3 / 1    52 x  52 x 128   ->    52 x  52 x 256 1.595 BF\n",
            " 105 conv     21  1 x 1 / 1    52 x  52 x 256   ->    52 x  52 x  21 0.029 BF\n",
            " 106 yolo\n",
            "Total BFLOPS 65.297 \n",
            "Loading weights from darknet53.conv.74...\n",
            " seen 64 \n",
            "Done!\n",
            "Learning Rate: 0.001, Momentum: 0.9, Decay: 0.0005\n",
            "Resizing\n",
            "352 x 352 \n",
            "Loaded: 1.792394 seconds\n",
            "Region 82 Avg IOU: -nan, Class: -nan, Obj: -nan, No Obj: 0.507418, .5R: -nan, .75R: -nan,  count: 0\n",
            "Region 94 Avg IOU: -nan, Class: -nan, Obj: -nan, No Obj: 0.532919, .5R: -nan, .75R: -nan,  count: 0\n",
            "Region 106 Avg IOU: -nan, Class: -nan, Obj: -nan, No Obj: 0.521217, .5R: -nan, .75R: -nan,  count: 0\n",
            "Region 82 Avg IOU: -nan, Class: -nan, Obj: -nan, No Obj: 0.506664, .5R: -nan, .75R: -nan,  count: 0\n",
            "Region 94 Avg IOU: -nan, Class: -nan, Obj: -nan, No Obj: 0.533027, .5R: -nan, .75R: -nan,  count: 0\n",
            "Region 106 Avg IOU: -nan, Class: -nan, Obj: -nan, No Obj: 0.520525, .5R: -nan, .75R: -nan,  count: 0\n",
            "Region 82 Avg IOU: -nan, Class: -nan, Obj: -nan, No Obj: 0.506784, .5R: -nan, .75R: -nan,  count: 0\n",
            "Region 94 Avg IOU: -nan, Class: -nan, Obj: -nan, No Obj: 0.533021, .5R: -nan, .75R: -nan,  count: 0\n",
            "Region 106 Avg IOU: -nan, Class: -nan, Obj: -nan, No Obj: 0.520332, .5R: -nan, .75R: -nan,  count: 0\n"
          ],
          "name": "stdout"
        }
      ]
    },
    {
      "metadata": {
        "id": "PM0c7wROoqx2",
        "colab_type": "code",
        "colab": {}
      },
      "cell_type": "code",
      "source": [
        "!bash -c 'mv Makefile darknet'"
      ],
      "execution_count": 0,
      "outputs": []
    },
    {
      "metadata": {
        "id": "aUGViMVb0wg8",
        "colab_type": "code",
        "colab": {}
      },
      "cell_type": "code",
      "source": [
        "!make"
      ],
      "execution_count": 0,
      "outputs": []
    },
    {
      "metadata": {
        "id": "qGqAahcU6VnK",
        "colab_type": "code",
        "colab": {}
      },
      "cell_type": "code",
      "source": [
        "!/usr/local/cuda/bin/nvcc --version"
      ],
      "execution_count": 0,
      "outputs": []
    }
  ]
}
